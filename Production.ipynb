{
  "nbformat": 4,
  "nbformat_minor": 0,
  "metadata": {
    "colab": {
      "name": "Production.ipynb",
      "provenance": [],
      "collapsed_sections": []
    },
    "kernelspec": {
      "name": "python3",
      "display_name": "Python 3"
    }
  },
  "cells": [
    {
      "cell_type": "code",
      "metadata": {
        "id": "NrUQoYDkFbOz",
        "colab_type": "code",
        "colab": {}
      },
      "source": [
        "from google.colab import drive\n",
        "import numpy as np\n",
        "import pandas as pd\n",
        "import os"
      ],
      "execution_count": 0,
      "outputs": []
    },
    {
      "cell_type": "code",
      "metadata": {
        "id": "mUnVUxrmTu36",
        "colab_type": "code",
        "colab": {}
      },
      "source": [
        "# Importing necessary libraries\n",
        "import glob\n",
        "import pickle\n",
        "import cv2\n",
        "import keras\n",
        "from keras.models import Sequential, load_model, Model\n",
        "import matplotlib.pyplot as plt\n",
        "from matplotlib.pyplot import imshow\n",
        "%matplotlib inline"
      ],
      "execution_count": 0,
      "outputs": []
    },
    {
      "cell_type": "code",
      "metadata": {
        "id": "H8T4LgToUAlr",
        "colab_type": "code",
        "outputId": "640e9270-26ad-4d40-9e29-a1f12d00aa4a",
        "colab": {
          "base_uri": "https://localhost:8080/",
          "height": 122
        }
      },
      "source": [
        "drive.mount('/content/drive')"
      ],
      "execution_count": 3,
      "outputs": [
        {
          "output_type": "stream",
          "text": [
            "Go to this URL in a browser: https://accounts.google.com/o/oauth2/auth?client_id=947318989803-6bn6qk8qdgf4n4g3pfee6491hc0brc4i.apps.googleusercontent.com&redirect_uri=urn%3aietf%3awg%3aoauth%3a2.0%3aoob&response_type=code&scope=email%20https%3a%2f%2fwww.googleapis.com%2fauth%2fdocs.test%20https%3a%2f%2fwww.googleapis.com%2fauth%2fdrive%20https%3a%2f%2fwww.googleapis.com%2fauth%2fdrive.photos.readonly%20https%3a%2f%2fwww.googleapis.com%2fauth%2fpeopleapi.readonly\n",
            "\n",
            "Enter your authorization code:\n",
            "··········\n",
            "Mounted at /content/drive\n"
          ],
          "name": "stdout"
        }
      ]
    },
    {
      "cell_type": "code",
      "metadata": {
        "id": "3S0DUQnUcwsr",
        "colab_type": "code",
        "outputId": "b1a82979-4c69-43b3-bca6-5cdb22eef888",
        "colab": {
          "base_uri": "https://localhost:8080/",
          "height": 34
        }
      },
      "source": [
        "cd /content/drive//'My Drive/Colab Notebooks/'"
      ],
      "execution_count": 6,
      "outputs": [
        {
          "output_type": "stream",
          "text": [
            "/content/drive/My Drive/Colab Notebooks\n"
          ],
          "name": "stdout"
        }
      ]
    },
    {
      "cell_type": "code",
      "metadata": {
        "id": "6_t2jUxBAysk",
        "colab_type": "code",
        "colab": {}
      },
      "source": [
        "#Declaring constants\n",
        "FIG_WIDTH=20 # Width of figure\n",
        "HEIGHT_PER_ROW=3 # Height of each row when showing a figure which consists of multiple rows\n",
        "RESIZE_DIM=28 # The images will be resized to 28x28 pixels"
      ],
      "execution_count": 0,
      "outputs": []
    },
    {
      "cell_type": "code",
      "metadata": {
        "id": "7Ezmf5sl3Mjr",
        "colab_type": "code",
        "colab": {}
      },
      "source": [
        "model = load_model('model_filter.h5')"
      ],
      "execution_count": 0,
      "outputs": []
    },
    {
      "cell_type": "code",
      "metadata": {
        "id": "6rXXuN333OL7",
        "colab_type": "code",
        "outputId": "42765dfb-a186-4fa8-e707-fe1ed6c6f547",
        "colab": {
          "base_uri": "https://localhost:8080/",
          "height": 561
        }
      },
      "source": [
        "model.summary()"
      ],
      "execution_count": 9,
      "outputs": [
        {
          "output_type": "stream",
          "text": [
            "Model: \"sequential_1\"\n",
            "_________________________________________________________________\n",
            "Layer (type)                 Output Shape              Param #   \n",
            "=================================================================\n",
            "conv2d_1 (Conv2D)            (None, 28, 28, 32)        832       \n",
            "_________________________________________________________________\n",
            "conv2d_2 (Conv2D)            (None, 28, 28, 32)        25632     \n",
            "_________________________________________________________________\n",
            "max_pooling2d_1 (MaxPooling2 (None, 14, 14, 32)        0         \n",
            "_________________________________________________________________\n",
            "dropout_1 (Dropout)          (None, 14, 14, 32)        0         \n",
            "_________________________________________________________________\n",
            "conv2d_3 (Conv2D)            (None, 14, 14, 64)        18496     \n",
            "_________________________________________________________________\n",
            "conv2d_4 (Conv2D)            (None, 14, 14, 64)        36928     \n",
            "_________________________________________________________________\n",
            "max_pooling2d_2 (MaxPooling2 (None, 7, 7, 64)          0         \n",
            "_________________________________________________________________\n",
            "dropout_2 (Dropout)          (None, 7, 7, 64)          0         \n",
            "_________________________________________________________________\n",
            "flatten_1 (Flatten)          (None, 3136)              0         \n",
            "_________________________________________________________________\n",
            "dense_1 (Dense)              (None, 256)               803072    \n",
            "_________________________________________________________________\n",
            "dropout_3 (Dropout)          (None, 256)               0         \n",
            "_________________________________________________________________\n",
            "dense_2 (Dense)              (None, 10)                2570      \n",
            "=================================================================\n",
            "Total params: 887,530\n",
            "Trainable params: 887,530\n",
            "Non-trainable params: 0\n",
            "_________________________________________________________________\n"
          ],
          "name": "stdout"
        }
      ]
    },
    {
      "cell_type": "code",
      "metadata": {
        "id": "HXAOq3Bx9tAF",
        "colab_type": "code",
        "outputId": "64d13990-3e39-429f-e3ff-bccece7a3372",
        "colab": {
          "base_uri": "https://localhost:8080/",
          "height": 34
        }
      },
      "source": [
        "cd /content/drive//'My Drive/Numta/Custom Data'"
      ],
      "execution_count": 10,
      "outputs": [
        {
          "output_type": "stream",
          "text": [
            "/content/drive/My Drive/Numta/Custom Data\n"
          ],
          "name": "stdout"
        }
      ]
    },
    {
      "cell_type": "code",
      "metadata": {
        "id": "4YnqGUhLiJrH",
        "colab_type": "code",
        "colab": {
          "base_uri": "https://localhost:8080/",
          "height": 51
        },
        "outputId": "bd6d1200-c104-45ee-f5a5-9dbac1f398ec"
      },
      "source": [
        "ls"
      ],
      "execution_count": 11,
      "outputs": [
        {
          "output_type": "stream",
          "text": [
            "augc00027.png  augc00043.png  augc00217.png  b00010.png  b00028.png\n",
            "augc00042.png  augc00216.png  b00002.png     b00024.png\n"
          ],
          "name": "stdout"
        }
      ]
    },
    {
      "cell_type": "markdown",
      "metadata": {
        "id": "7d954EOPpxgq",
        "colab_type": "text"
      },
      "source": [
        "### **The helper functions to preprocess the raw image and visualising the results**"
      ]
    },
    {
      "cell_type": "code",
      "metadata": {
        "id": "-KZwbRHM-2zy",
        "colab_type": "code",
        "colab": {}
      },
      "source": [
        "def get_data(paths_img,path_label=None,resize_dim=None):\n",
        "    '''reads images from the filepaths, resizes them (if given), and returns them in a numpy array\n",
        "    Args:\n",
        "        paths_img: image filepaths\n",
        "        path_label: pass image label filepaths while processing training data, defaults to None while processing testing data\n",
        "        resize_dim: if given, the image is resized to resize_dim x resize_dim (optional)\n",
        "    Returns:\n",
        "        X: group of images\n",
        "        y: categorical true labels\n",
        "    '''\n",
        "    X=[] # initialize empty list for resized images\n",
        "    for i,path in enumerate(paths_img):\n",
        "        img=cv2.imread(path,cv2.IMREAD_COLOR) # images loaded in color (BGR)\n",
        "        #img = cv2.fastNlMeansDenoisingColored(img,None,10,10,7,21)\n",
        "        img=cv2.cvtColor(img,cv2.COLOR_BGR2GRAY) # cnahging colorspace to GRAY\n",
        "        if resize_dim is not None:\n",
        "            img=cv2.resize(img,(resize_dim,resize_dim),interpolation=cv2.INTER_AREA) # resize image to 28x28\n",
        "        #X.append(np.expand_dims(img,axis=2)) # expand image to 28x28x1 and append to the list.\n",
        "        gaussian_3 = cv2.GaussianBlur(img, (9,9), 10.0) #unblur\n",
        "        img = cv2.addWeighted(img, 1.5, gaussian_3, -0.5, 0, img)\n",
        "        kernel = np.array([[-1,-1,-1], [-1,9,-1], [-1,-1,-1]]) #filter\n",
        "        img = cv2.filter2D(img, -1, kernel)\n",
        "        thresh = 200\n",
        "        maxValue = 255\n",
        "        #th, img = cv2.threshold(img, thresh, maxValue, cv2.THRESH_BINARY);\n",
        "        ret,img = cv2.threshold(img, 0, 255, cv2.THRESH_BINARY+cv2.THRESH_OTSU)\n",
        "        X.append(img) # expand image to 28x28x1 and append to the list\n",
        "        # display progress\n",
        "        if i==len(paths_img)-1:\n",
        "            end='\\n'\n",
        "        else: end='\\r'\n",
        "        print('processed {}/{}'.format(i+1,len(paths_img)),end=end)\n",
        "        \n",
        "    X=np.array(X) # tranform list to numpy array\n",
        "    if  path_label is None:\n",
        "        return X\n",
        "    else:\n",
        "        df = pd.read_csv(path_label) # read labels\n",
        "        df=df.set_index('filename') \n",
        "        y_label=[df.loc[get_key(path)]['digit'] for path in  paths_img] # get the labels corresponding to the images\n",
        "        y=to_categorical(y_label,10) # transfrom integer value to categorical variable\n",
        "        return X, y"
      ],
      "execution_count": 0,
      "outputs": []
    },
    {
      "cell_type": "code",
      "metadata": {
        "id": "qFbbLMpY36LV",
        "colab_type": "code",
        "colab": {}
      },
      "source": [
        "def get_key(path):\n",
        "    '''yields the key of an image from the filepath\n",
        "    Args:\n",
        "        path: The full path directory of an image\n",
        "    Returns:\n",
        "        key: The identifier of the image'''\n",
        "    key=path.split(sep=os.sep)[-1]\n",
        "    return key"
      ],
      "execution_count": 0,
      "outputs": []
    },
    {
      "cell_type": "code",
      "metadata": {
        "id": "r1qNtRAu-H42",
        "colab_type": "code",
        "colab": {}
      },
      "source": [
        "def imshow_group(X,y,y_pred=None,n_per_row=10,phase='processed'):\n",
        "    '''helper function to visualize a group of images along with their categorical true labels (y) and prediction probabilities.\n",
        "    Args:\n",
        "        X: images\n",
        "        y: categorical true labels\n",
        "        y_pred: predicted class probabilities\n",
        "        n_per_row: number of images per row to be plotted\n",
        "        phase: If the images are plotted after resizing, pass 'processed' to phase argument. \n",
        "            It will plot the image and its true label. If the image is plotted after prediction \n",
        "            phase, pass predicted class probabilities to y_pred and 'prediction' to the phase argument. \n",
        "            It will plot the image, the true label, and it's top 3 predictions with highest probabilities.\n",
        "    '''\n",
        "    n_sample=len(X)\n",
        "    img_dim=X.shape[1]\n",
        "    j=np.ceil(n_sample/n_per_row)\n",
        "    fig=plt.figure(figsize=(FIG_WIDTH,HEIGHT_PER_ROW*j))\n",
        "    for i,img in enumerate(X):\n",
        "        plt.subplot(j,n_per_row,i+1)\n",
        "#         img_sq=np.squeeze(img,axis=2)\n",
        "#         plt.imshow(img_sq,cmap='gray')\n",
        "        plt.imshow(img)\n",
        "        if phase=='processed':\n",
        "            plt.title(np.argmax(y[i]))\n",
        "        if phase=='prediction':\n",
        "            top_n=3 # top 3 predictions with highest probabilities\n",
        "            ind_sorted=np.argsort(y_pred[i])[::-1]\n",
        "            h=img_dim+4\n",
        "            for k in range(top_n):\n",
        "                string='pred: {} ({:.0f}%)\\n'.format(ind_sorted[k],y_pred[i,ind_sorted[k]]*100)\n",
        "                plt.text(img_dim/2, h, string, horizontalalignment='center',verticalalignment='center')\n",
        "                h+=4\n",
        "            if y is not None:\n",
        "                plt.text(img_dim/2, -4, 'true label: {}'.format(np.argmax(y[i])), \n",
        "                         horizontalalignment='center',verticalalignment='center')\n",
        "        plt.axis('off')\n",
        "    plt.show()"
      ],
      "execution_count": 0,
      "outputs": []
    },
    {
      "cell_type": "code",
      "metadata": {
        "id": "6Bm08_KFoIxd",
        "colab_type": "code",
        "colab": {
          "base_uri": "https://localhost:8080/",
          "height": 34
        },
        "outputId": "3b80fa43-d573-4486-e26e-8ae375c128b1"
      },
      "source": [
        "ls"
      ],
      "execution_count": 20,
      "outputs": [
        {
          "output_type": "stream",
          "text": [
            " \u001b[0m\u001b[01;34mcode\u001b[0m/  \u001b[01;34m'Custom Data'\u001b[0m/   \u001b[01;34mdata\u001b[0m/   \u001b[01;34mFinal_DB\u001b[0m/   \u001b[01;34mmodel\u001b[0m/   trained_model.h5\n"
          ],
          "name": "stdout"
        }
      ]
    },
    {
      "cell_type": "code",
      "metadata": {
        "id": "UY_eFZ3h_Jwg",
        "colab_type": "code",
        "colab": {}
      },
      "source": [
        "paths_test_a=glob.glob(os.path.join('Custom Data','*.png'))"
      ],
      "execution_count": 0,
      "outputs": []
    },
    {
      "cell_type": "code",
      "metadata": {
        "id": "qBWSvE0ZnpDx",
        "colab_type": "code",
        "colab": {
          "base_uri": "https://localhost:8080/",
          "height": 170
        },
        "outputId": "4aebf34b-4658-46bf-92f9-60a85d31f108"
      },
      "source": [
        "paths_test_a"
      ],
      "execution_count": 22,
      "outputs": [
        {
          "output_type": "execute_result",
          "data": {
            "text/plain": [
              "['Custom Data/augc00217.png',\n",
              " 'Custom Data/augc00216.png',\n",
              " 'Custom Data/augc00042.png',\n",
              " 'Custom Data/augc00043.png',\n",
              " 'Custom Data/augc00027.png',\n",
              " 'Custom Data/b00024.png',\n",
              " 'Custom Data/b00002.png',\n",
              " 'Custom Data/b00028.png',\n",
              " 'Custom Data/b00010.png']"
            ]
          },
          "metadata": {
            "tags": []
          },
          "execution_count": 22
        }
      ]
    },
    {
      "cell_type": "code",
      "metadata": {
        "id": "bxg4od9r_jGa",
        "colab_type": "code",
        "outputId": "3c77fb39-4a6e-4e00-8028-17c92ddcc429",
        "colab": {
          "base_uri": "https://localhost:8080/",
          "height": 34
        }
      },
      "source": [
        "X_test_a = get_data(paths_test_a, resize_dim=28)"
      ],
      "execution_count": 23,
      "outputs": [
        {
          "output_type": "stream",
          "text": [
            "processed 9/9\n"
          ],
          "name": "stdout"
        }
      ]
    },
    {
      "cell_type": "code",
      "metadata": {
        "id": "4q_Ya5Mb_wra",
        "colab_type": "code",
        "colab": {}
      },
      "source": [
        "X_test_all = X_test_a.reshape(X_test_a.shape[0], 28, 28,1).astype('float32')"
      ],
      "execution_count": 0,
      "outputs": []
    },
    {
      "cell_type": "code",
      "metadata": {
        "id": "0HgmiZT4_1IQ",
        "colab_type": "code",
        "outputId": "7d2f1deb-c1ef-4516-d87e-8d0e6b0e67e2",
        "colab": {
          "base_uri": "https://localhost:8080/",
          "height": 34
        }
      },
      "source": [
        "X_test_all.shape"
      ],
      "execution_count": 25,
      "outputs": [
        {
          "output_type": "execute_result",
          "data": {
            "text/plain": [
              "(9, 28, 28, 1)"
            ]
          },
          "metadata": {
            "tags": []
          },
          "execution_count": 25
        }
      ]
    },
    {
      "cell_type": "code",
      "metadata": {
        "id": "MDAg4zC9AqlG",
        "colab_type": "code",
        "colab": {}
      },
      "source": [
        "predictions = model.predict(X_test_all)"
      ],
      "execution_count": 0,
      "outputs": []
    },
    {
      "cell_type": "code",
      "metadata": {
        "id": "lRyt1JyRBhqP",
        "colab_type": "code",
        "colab": {
          "base_uri": "https://localhost:8080/",
          "height": 178
        },
        "outputId": "e9071734-c6bd-4bee-9ead-25bebed6b6e2"
      },
      "source": [
        "imshow_group(X=X_test_a,y=None,y_pred=predictions,n_per_row=10,phase='prediction')"
      ],
      "execution_count": 28,
      "outputs": [
        {
          "output_type": "display_data",
          "data": {
            "image/png": "[encoded data removed]",
            "text/plain": [
              "<Figure size 1440x216 with 9 Axes>"
            ]
          },
          "metadata": {
            "tags": [],
            "needs_background": "light"
          }
        }
      ]
    },
    {
      "cell_type": "code",
      "metadata": {
        "id": "-QanF74DpBeW",
        "colab_type": "code",
        "colab": {}
      },
      "source": [
        ""
      ],
      "execution_count": 0,
      "outputs": []
    }
  ]
}